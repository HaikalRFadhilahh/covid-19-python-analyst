{
 "cells": [
  {
   "cell_type": "code",
   "execution_count": 125,
   "metadata": {},
   "outputs": [],
   "source": [
    "import pandas as pd\n",
    "import seaborn as sns\n",
    "import numpy as np\n",
    "import matplotlib.pyplot as plt"
   ]
  },
  {
   "cell_type": "code",
   "execution_count": 100,
   "metadata": {},
   "outputs": [
    {
     "data": {
      "text/html": [
       "<div>\n",
       "<style scoped>\n",
       "    .dataframe tbody tr th:only-of-type {\n",
       "        vertical-align: middle;\n",
       "    }\n",
       "\n",
       "    .dataframe tbody tr th {\n",
       "        vertical-align: top;\n",
       "    }\n",
       "\n",
       "    .dataframe thead th {\n",
       "        text-align: right;\n",
       "    }\n",
       "</style>\n",
       "<table border=\"1\" class=\"dataframe\">\n",
       "  <thead>\n",
       "    <tr style=\"text-align: right;\">\n",
       "      <th></th>\n",
       "      <th>Country</th>\n",
       "      <th>Total Cases</th>\n",
       "      <th>Total Deaths</th>\n",
       "      <th>Total Recovered</th>\n",
       "      <th>Active Cases</th>\n",
       "      <th>Total Test</th>\n",
       "      <th>Population</th>\n",
       "    </tr>\n",
       "  </thead>\n",
       "  <tbody>\n",
       "    <tr>\n",
       "      <th>0</th>\n",
       "      <td>USA</td>\n",
       "      <td>104196861</td>\n",
       "      <td>1132935</td>\n",
       "      <td>101322779</td>\n",
       "      <td>1741147</td>\n",
       "      <td>1159832679</td>\n",
       "      <td>334805269</td>\n",
       "    </tr>\n",
       "    <tr>\n",
       "      <th>1</th>\n",
       "      <td>India</td>\n",
       "      <td>44682784</td>\n",
       "      <td>530740</td>\n",
       "      <td>44150289</td>\n",
       "      <td>1755</td>\n",
       "      <td>915265788</td>\n",
       "      <td>1406631776</td>\n",
       "    </tr>\n",
       "    <tr>\n",
       "      <th>2</th>\n",
       "      <td>France</td>\n",
       "      <td>39524311</td>\n",
       "      <td>164233</td>\n",
       "      <td>39264546</td>\n",
       "      <td>95532</td>\n",
       "      <td>271490188</td>\n",
       "      <td>65584518</td>\n",
       "    </tr>\n",
       "    <tr>\n",
       "      <th>3</th>\n",
       "      <td>Germany</td>\n",
       "      <td>37779833</td>\n",
       "      <td>165711</td>\n",
       "      <td>37398100</td>\n",
       "      <td>216022</td>\n",
       "      <td>122332384</td>\n",
       "      <td>83883596</td>\n",
       "    </tr>\n",
       "    <tr>\n",
       "      <th>4</th>\n",
       "      <td>Brazil</td>\n",
       "      <td>36824580</td>\n",
       "      <td>697074</td>\n",
       "      <td>35919372</td>\n",
       "      <td>208134</td>\n",
       "      <td>63776166</td>\n",
       "      <td>215353593</td>\n",
       "    </tr>\n",
       "    <tr>\n",
       "      <th>...</th>\n",
       "      <td>...</td>\n",
       "      <td>...</td>\n",
       "      <td>...</td>\n",
       "      <td>...</td>\n",
       "      <td>...</td>\n",
       "      <td>...</td>\n",
       "      <td>...</td>\n",
       "    </tr>\n",
       "    <tr>\n",
       "      <th>217</th>\n",
       "      <td>Anguilla</td>\n",
       "      <td>3904</td>\n",
       "      <td>12</td>\n",
       "      <td>3879</td>\n",
       "      <td>13</td>\n",
       "      <td>51382</td>\n",
       "      <td>15230</td>\n",
       "    </tr>\n",
       "    <tr>\n",
       "      <th>218</th>\n",
       "      <td>Macao</td>\n",
       "      <td>3488</td>\n",
       "      <td>120</td>\n",
       "      <td>3357</td>\n",
       "      <td>11</td>\n",
       "      <td>7850</td>\n",
       "      <td>667490</td>\n",
       "    </tr>\n",
       "    <tr>\n",
       "      <th>219</th>\n",
       "      <td>Saint Pierre Miquelon</td>\n",
       "      <td>3452</td>\n",
       "      <td>2</td>\n",
       "      <td>2449</td>\n",
       "      <td>1001</td>\n",
       "      <td>25400</td>\n",
       "      <td>5759</td>\n",
       "    </tr>\n",
       "    <tr>\n",
       "      <th>220</th>\n",
       "      <td>Wallis and Futuna</td>\n",
       "      <td>3427</td>\n",
       "      <td>7</td>\n",
       "      <td>438</td>\n",
       "      <td>2982</td>\n",
       "      <td>20508</td>\n",
       "      <td>10982</td>\n",
       "    </tr>\n",
       "    <tr>\n",
       "      <th>224</th>\n",
       "      <td>Montserrat</td>\n",
       "      <td>1403</td>\n",
       "      <td>8</td>\n",
       "      <td>1376</td>\n",
       "      <td>19</td>\n",
       "      <td>17762</td>\n",
       "      <td>4965</td>\n",
       "    </tr>\n",
       "  </tbody>\n",
       "</table>\n",
       "<p>195 rows × 7 columns</p>\n",
       "</div>"
      ],
      "text/plain": [
       "                   Country  Total Cases  Total Deaths  Total Recovered  \\\n",
       "0                      USA    104196861       1132935        101322779   \n",
       "1                    India     44682784        530740         44150289   \n",
       "2                   France     39524311        164233         39264546   \n",
       "3                  Germany     37779833        165711         37398100   \n",
       "4                   Brazil     36824580        697074         35919372   \n",
       "..                     ...          ...           ...              ...   \n",
       "217               Anguilla         3904            12             3879   \n",
       "218                  Macao         3488           120             3357   \n",
       "219  Saint Pierre Miquelon         3452             2             2449   \n",
       "220      Wallis and Futuna         3427             7              438   \n",
       "224             Montserrat         1403             8             1376   \n",
       "\n",
       "     Active Cases  Total Test  Population  \n",
       "0         1741147  1159832679   334805269  \n",
       "1            1755   915265788  1406631776  \n",
       "2           95532   271490188    65584518  \n",
       "3          216022   122332384    83883596  \n",
       "4          208134    63776166   215353593  \n",
       "..            ...         ...         ...  \n",
       "217            13       51382       15230  \n",
       "218            11        7850      667490  \n",
       "219          1001       25400        5759  \n",
       "220          2982       20508       10982  \n",
       "224            19       17762        4965  \n",
       "\n",
       "[195 rows x 7 columns]"
      ]
     },
     "execution_count": 100,
     "metadata": {},
     "output_type": "execute_result"
    }
   ],
   "source": [
    "df = pd.read_csv('./covid_worldwide.csv')\n",
    "df.dropna(inplace=True)\n",
    "df.drop(columns='Serial Number', inplace=True)\n",
    "df = df.apply(lambda x: x.str.replace(',', ''))\n",
    "df[['Total Cases', 'Total Deaths', 'Total Recovered', 'Active Cases', 'Total Test', 'Population']] = df[[\n",
    "    'Total Cases', 'Total Deaths', 'Total Recovered', 'Active Cases', 'Total Test', 'Population']].astype('int64')\n",
    "df"
   ]
  },
  {
   "attachments": {},
   "cell_type": "markdown",
   "metadata": {},
   "source": [
    "## Lima Negara Teratas Dengan Kasus Covid-19 Tertinggi"
   ]
  },
  {
   "cell_type": "code",
   "execution_count": 126,
   "metadata": {},
   "outputs": [
    {
     "data": {
      "text/plain": [
       "<Axes: xlabel='Country', ylabel='Total Cases'>"
      ]
     },
     "execution_count": 126,
     "metadata": {},
     "output_type": "execute_result"
    },
    {
     "data": {
      "image/png": "[encoded data removed]",
      "text/plain": [
       "<Figure size 640x480 with 1 Axes>"
      ]
     },
     "metadata": {},
     "output_type": "display_data"
    }
   ],
   "source": [
    "dc = df[['Country', 'Total Cases']]\n",
    "topCasesTop5 = dc.sort_values(by='Total Cases', ascending=False).head(5)\n",
    "sns.barplot(data=topCasesTop5, x='Country', y='Total Cases')"
   ]
  },
  {
   "attachments": {},
   "cell_type": "markdown",
   "metadata": {},
   "source": [
    "## Persentase Angka Kematian Tertinggi Kasus Covid-19"
   ]
  }
 ],
 "metadata": {
  "kernelspec": {
   "display_name": "BigData",
   "language": "python",
   "name": "python3"
  },
  "language_info": {
   "codemirror_mode": {
    "name": "ipython",
    "version": 3
   },
   "file_extension": ".py",
   "mimetype": "text/x-python",
   "name": "python",
   "nbconvert_exporter": "python",
   "pygments_lexer": "ipython3",
   "version": "3.10.10"
  },
  "orig_nbformat": 4
 },
 "nbformat": 4,
 "nbformat_minor": 2
}
