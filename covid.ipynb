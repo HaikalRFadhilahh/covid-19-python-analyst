{
 "cells": [
  {
   "attachments": {},
   "cell_type": "markdown",
   "metadata": {},
   "source": [
    "## Import Library"
   ]
  },
  {
   "cell_type": "code",
   "execution_count": 196,
   "metadata": {},
   "outputs": [],
   "source": [
    "import pandas as pd\n",
    "import seaborn as sns\n",
    "import numpy as np\n",
    "import matplotlib.pyplot as plt\n",
    "from pycountry_convert import country_alpha2_to_continent_code, country_name_to_country_alpha2,country_name_to_country_alpha3\n",
    "import plotly as py\n",
    "import plotly.express as px\n",
    "import warnings\n",
    "import plotly.io as pio\n",
    "\n",
    "# Config Default Library\n",
    "warnings.filterwarnings('ignore')\n",
    "pio.renderers.default = \"notebook_connected\""
   ]
  },
  {
   "attachments": {},
   "cell_type": "markdown",
   "metadata": {},
   "source": [
    "## Convert Country and Continent Code Function"
   ]
  },
  {
   "cell_type": "code",
   "execution_count": 197,
   "metadata": {},
   "outputs": [],
   "source": [
    "def dataFrameCountryCode(data,col):\n",
    "    arr = []\n",
    "    for i in data[col]:\n",
    "        try:\n",
    "            dump = country_name_to_country_alpha2(i)\n",
    "            arr.append(dump)\n",
    "        except:\n",
    "            arr.append(None)\n",
    "    return pd.DataFrame(arr,columns=['Country Code'])\n",
    "\n",
    "def dataFrameContinentCode(data,col):\n",
    "    arr = []\n",
    "    for x in data[col]:\n",
    "        try:\n",
    "            dump = country_alpha2_to_continent_code(x)\n",
    "            arr.append(dump)\n",
    "        except:\n",
    "            arr.append(None)\n",
    "    return pd.DataFrame(arr,columns=['Continent Code'])\n",
    "\n",
    "def dataFrameCountryCode3(data,col):\n",
    "    arr = []\n",
    "    for x in data[col]:\n",
    "        try:\n",
    "            dump = country_name_to_country_alpha3(x)\n",
    "            arr.append(dump)\n",
    "        except:\n",
    "            arr.append(None)\n",
    "    return pd.DataFrame(arr,columns=['Country Code Alpha 3'])"
   ]
  },
  {
   "attachments": {},
   "cell_type": "markdown",
   "metadata": {},
   "source": [
    "## Reading The Csv Data"
   ]
  },
  {
   "cell_type": "code",
   "execution_count": 198,
   "metadata": {},
   "outputs": [
    {
     "data": {
      "text/html": [
       "<div>\n",
       "<style scoped>\n",
       "    .dataframe tbody tr th:only-of-type {\n",
       "        vertical-align: middle;\n",
       "    }\n",
       "\n",
       "    .dataframe tbody tr th {\n",
       "        vertical-align: top;\n",
       "    }\n",
       "\n",
       "    .dataframe thead th {\n",
       "        text-align: right;\n",
       "    }\n",
       "</style>\n",
       "<table border=\"1\" class=\"dataframe\">\n",
       "  <thead>\n",
       "    <tr style=\"text-align: right;\">\n",
       "      <th></th>\n",
       "      <th>Country</th>\n",
       "      <th>Total Cases</th>\n",
       "      <th>Total Deaths</th>\n",
       "      <th>Total Recovered</th>\n",
       "      <th>Active Cases</th>\n",
       "      <th>Total Test</th>\n",
       "      <th>Country Code</th>\n",
       "      <th>Continent Code</th>\n",
       "      <th>Country Code Alpha 3</th>\n",
       "    </tr>\n",
       "  </thead>\n",
       "  <tbody>\n",
       "    <tr>\n",
       "      <th>0</th>\n",
       "      <td>USA</td>\n",
       "      <td>104196861</td>\n",
       "      <td>1132935</td>\n",
       "      <td>101322779</td>\n",
       "      <td>1741147</td>\n",
       "      <td>1159832679</td>\n",
       "      <td>US</td>\n",
       "      <td>NA</td>\n",
       "      <td>USA</td>\n",
       "    </tr>\n",
       "    <tr>\n",
       "      <th>1</th>\n",
       "      <td>India</td>\n",
       "      <td>44682784</td>\n",
       "      <td>530740</td>\n",
       "      <td>44150289</td>\n",
       "      <td>1755</td>\n",
       "      <td>915265788</td>\n",
       "      <td>IN</td>\n",
       "      <td>AS</td>\n",
       "      <td>IND</td>\n",
       "    </tr>\n",
       "    <tr>\n",
       "      <th>2</th>\n",
       "      <td>France</td>\n",
       "      <td>39524311</td>\n",
       "      <td>164233</td>\n",
       "      <td>39264546</td>\n",
       "      <td>95532</td>\n",
       "      <td>271490188</td>\n",
       "      <td>FR</td>\n",
       "      <td>EU</td>\n",
       "      <td>FRA</td>\n",
       "    </tr>\n",
       "    <tr>\n",
       "      <th>3</th>\n",
       "      <td>Germany</td>\n",
       "      <td>37779833</td>\n",
       "      <td>165711</td>\n",
       "      <td>37398100</td>\n",
       "      <td>216022</td>\n",
       "      <td>122332384</td>\n",
       "      <td>DE</td>\n",
       "      <td>EU</td>\n",
       "      <td>DEU</td>\n",
       "    </tr>\n",
       "    <tr>\n",
       "      <th>4</th>\n",
       "      <td>Brazil</td>\n",
       "      <td>36824580</td>\n",
       "      <td>697074</td>\n",
       "      <td>35919372</td>\n",
       "      <td>208134</td>\n",
       "      <td>63776166</td>\n",
       "      <td>BR</td>\n",
       "      <td>SA</td>\n",
       "      <td>BRA</td>\n",
       "    </tr>\n",
       "    <tr>\n",
       "      <th>...</th>\n",
       "      <td>...</td>\n",
       "      <td>...</td>\n",
       "      <td>...</td>\n",
       "      <td>...</td>\n",
       "      <td>...</td>\n",
       "      <td>...</td>\n",
       "      <td>...</td>\n",
       "      <td>...</td>\n",
       "      <td>...</td>\n",
       "    </tr>\n",
       "    <tr>\n",
       "      <th>190</th>\n",
       "      <td>Nauru</td>\n",
       "      <td>4621</td>\n",
       "      <td>1</td>\n",
       "      <td>4609</td>\n",
       "      <td>11</td>\n",
       "      <td>20509</td>\n",
       "      <td>NR</td>\n",
       "      <td>OC</td>\n",
       "      <td>NRU</td>\n",
       "    </tr>\n",
       "    <tr>\n",
       "      <th>191</th>\n",
       "      <td>Anguilla</td>\n",
       "      <td>3904</td>\n",
       "      <td>12</td>\n",
       "      <td>3879</td>\n",
       "      <td>13</td>\n",
       "      <td>51382</td>\n",
       "      <td>AI</td>\n",
       "      <td>NA</td>\n",
       "      <td>AIA</td>\n",
       "    </tr>\n",
       "    <tr>\n",
       "      <th>192</th>\n",
       "      <td>Macao</td>\n",
       "      <td>3488</td>\n",
       "      <td>120</td>\n",
       "      <td>3357</td>\n",
       "      <td>11</td>\n",
       "      <td>7850</td>\n",
       "      <td>MO</td>\n",
       "      <td>AS</td>\n",
       "      <td>MAC</td>\n",
       "    </tr>\n",
       "    <tr>\n",
       "      <th>194</th>\n",
       "      <td>Wallis and Futuna</td>\n",
       "      <td>3427</td>\n",
       "      <td>7</td>\n",
       "      <td>438</td>\n",
       "      <td>2982</td>\n",
       "      <td>20508</td>\n",
       "      <td>WF</td>\n",
       "      <td>OC</td>\n",
       "      <td>WLF</td>\n",
       "    </tr>\n",
       "    <tr>\n",
       "      <th>195</th>\n",
       "      <td>Montserrat</td>\n",
       "      <td>1403</td>\n",
       "      <td>8</td>\n",
       "      <td>1376</td>\n",
       "      <td>19</td>\n",
       "      <td>17762</td>\n",
       "      <td>MS</td>\n",
       "      <td>NA</td>\n",
       "      <td>MSR</td>\n",
       "    </tr>\n",
       "  </tbody>\n",
       "</table>\n",
       "<p>187 rows × 9 columns</p>\n",
       "</div>"
      ],
      "text/plain": [
       "               Country  Total Cases  Total Deaths  Total Recovered  \\\n",
       "0                  USA    104196861       1132935        101322779   \n",
       "1                India     44682784        530740         44150289   \n",
       "2               France     39524311        164233         39264546   \n",
       "3              Germany     37779833        165711         37398100   \n",
       "4               Brazil     36824580        697074         35919372   \n",
       "..                 ...          ...           ...              ...   \n",
       "190              Nauru         4621             1             4609   \n",
       "191           Anguilla         3904            12             3879   \n",
       "192              Macao         3488           120             3357   \n",
       "194  Wallis and Futuna         3427             7              438   \n",
       "195         Montserrat         1403             8             1376   \n",
       "\n",
       "     Active Cases  Total Test Country Code Continent Code Country Code Alpha 3  \n",
       "0         1741147  1159832679           US             NA                  USA  \n",
       "1            1755   915265788           IN             AS                  IND  \n",
       "2           95532   271490188           FR             EU                  FRA  \n",
       "3          216022   122332384           DE             EU                  DEU  \n",
       "4          208134    63776166           BR             SA                  BRA  \n",
       "..            ...         ...          ...            ...                  ...  \n",
       "190            11       20509           NR             OC                  NRU  \n",
       "191            13       51382           AI             NA                  AIA  \n",
       "192            11        7850           MO             AS                  MAC  \n",
       "194          2982       20508           WF             OC                  WLF  \n",
       "195            19       17762           MS             NA                  MSR  \n",
       "\n",
       "[187 rows x 9 columns]"
      ]
     },
     "execution_count": 198,
     "metadata": {},
     "output_type": "execute_result"
    }
   ],
   "source": [
    "df = pd.read_csv('./covid_worldwide.csv')\n",
    "df.drop(columns=['Population'],inplace=True)\n",
    "df.dropna(inplace=True)\n",
    "df.drop(columns='Serial Number', inplace=True)\n",
    "df = df.apply(lambda x: x.str.replace(',', ''))\n",
    "df[['Total Cases', 'Total Deaths', 'Total Recovered', 'Active Cases', 'Total Test']] = df[[\n",
    "    'Total Cases', 'Total Deaths', 'Total Recovered', 'Active Cases', 'Total Test']].astype('int64')\n",
    "df = df.replace(['S. Korea','UK'],['South Korea','United Kingdom'])\n",
    "df.reset_index(inplace=True)\n",
    "cc = dataFrameCountryCode(data=df,col='Country')\n",
    "cc.reset_index(inplace=True)\n",
    "df['Country Code'] = cc['Country Code']\n",
    "conc = dataFrameContinentCode(data=df,col='Country Code')\n",
    "conc.reset_index()\n",
    "df['Continent Code'] = conc['Continent Code']\n",
    "alp3 = dataFrameCountryCode3(data=df,col='Country')\n",
    "alp3.reset_index(inplace=True)\n",
    "df['Country Code Alpha 3'] = alp3['Country Code Alpha 3']\n",
    "df.dropna(how='any',inplace=True)\n",
    "df.drop(columns=['index'],inplace=True)\n",
    "df"
   ]
  },
  {
   "attachments": {},
   "cell_type": "markdown",
   "metadata": {},
   "source": [
    "## Lima Negara Teratas Dengan Kasus Covid-19 Tertinggi"
   ]
  },
  {
   "cell_type": "code",
   "execution_count": 199,
   "metadata": {},
   "outputs": [
    {
     "data": {
      "image/png": "[encoded data removed]",
      "text/plain": [
       "<Figure size 640x480 with 1 Axes>"
      ]
     },
     "metadata": {},
     "output_type": "display_data"
    }
   ],
   "source": [
    "dc = df[['Country', 'Total Cases']]\n",
    "topCasesTop5 = dc.sort_values(by='Total Cases', ascending=False).head(5)\n",
    "dp = sns.barplot(data=topCasesTop5, x='Country', y='Total Cases')\n",
    "for i in dp.containers:\n",
    "    dp.bar_label(i,)\n",
    "plt.xticks(rotation=30)\n",
    "plt.show()"
   ]
  },
  {
   "attachments": {},
   "cell_type": "markdown",
   "metadata": {},
   "source": [
    "## Persentase Angka Kematian Tertinggi Kasus Covid-19"
   ]
  },
  {
   "cell_type": "code",
   "execution_count": 200,
   "metadata": {},
   "outputs": [
    {
     "data": {
      "image/png": "[encoded data removed]",
      "text/plain": [
       "<Figure size 640x480 with 1 Axes>"
      ]
     },
     "metadata": {},
     "output_type": "display_data"
    }
   ],
   "source": [
    "dd = df[['Country','Total Cases','Total Deaths']]\n",
    "dd['Death Rate Covid'] = dd.apply(lambda x: x['Total Deaths'] / x['Total Cases'] * 1000,axis=1 )\n",
    "dd = dd.sort_values(by='Death Rate Covid',ascending=False)\n",
    "ax = sns.barplot(x=dd['Country'].head(),y=dd['Death Rate Covid'].head())\n",
    "for i in ax.containers:\n",
    "    ax.bar_label(i,)\n",
    "plt.xticks(rotation=45)\n",
    "plt.show()"
   ]
  },
  {
   "attachments": {},
   "cell_type": "markdown",
   "metadata": {},
   "source": [
    "## Show World Map Covid 19 Cases"
   ]
  },
  {
   "cell_type": "code",
   "execution_count": 201,
   "metadata": {},
   "outputs": [
    {
     "data": {
      "text/html": [
       "        <script type=\"text/javascript\">\n",
       "        window.PlotlyConfig = {MathJaxConfig: 'local'};\n",
       "        if (window.MathJax && window.MathJax.Hub && window.MathJax.Hub.Config) {window.MathJax.Hub.Config({SVG: {font: \"STIX-Web\"}});}\n",
       "        if (typeof require !== 'undefined') {\n",
       "        require.undef(\"plotly\");\n",
       "        requirejs.config({\n",
       "            paths: {\n",
       "                'plotly': ['https://cdn.plot.ly/plotly-2.12.1.min']\n",
       "            }\n",
       "        });\n",
       "        require(['plotly'], function(Plotly) {\n",
       "            window._Plotly = Plotly;\n",
       "        });\n",
       "        }\n",
       "        </script>\n",
       "        "
      ]
     },
     "metadata": {},
     "output_type": "display_data"
    },
    {
     "data": {
      "text/html": [
       "<div>                            <div id=\"1b9ab43a-4730-4210-9bd3-d2883f8682db\" class=\"plotly-graph-div\" style=\"height:525px; width:100%;\"></div>            <script type=\"text/javascript\">                require([\"plotly\"], function(Plotly) {                    window.PLOTLYENV=window.PLOTLYENV || {};                                    if (document.getElementById(\"1b9ab43a-4730-4210-9bd3-d2883f8682db\")) {                    Plotly.newPlot(                        \"1b9ab43a-4730-4210-9bd3-d2883f8682db\",                        [{\"coloraxis\":\"coloraxis\",\"geo\":\"geo\",\"hovertemplate\":\"locations=%{location}<br>color=%{z}<extra></extra>\",\"locationmode\":\"ISO-3\",\"locations\":[\"USA\",\"IND\",\"FRA\",\"DEU\",\"BRA\",\"JPN\",\"KOR\",\"ITA\",\"GBR\",\"RUS\",\"ESP\",\"VNM\",\"AUS\",\"ARG\",\"TWN\",\"NLD\",\"IRN\",\"MEX\",\"IDN\",\"POL\",\"COL\",\"AUT\",\"GRC\",\"PRT\",\"UKR\",\"CHL\",\"MYS\",\"ISR\",\"THA\",\"BEL\",\"CZE\",\"CAN\",\"PER\",\"CHE\",\"PHL\",\"ZAF\",\"ROU\",\"DNK\",\"HKG\",\"SWE\",\"SRB\",\"IRQ\",\"SGP\",\"HUN\",\"NZL\",\"BGD\",\"SVK\",\"GEO\",\"JOR\",\"IRL\",\"PAK\",\"NOR\",\"FIN\",\"KAZ\",\"SVN\",\"LTU\",\"BGR\",\"MAR\",\"HRV\",\"LBN\",\"GTM\",\"BOL\",\"CRI\",\"CUB\",\"ECU\",\"URY\",\"PAN\",\"MNG\",\"NPL\",\"BLR\",\"LVA\",\"SAU\",\"AZE\",\"BHR\",\"LKA\",\"KWT\",\"DOM\",\"CYP\",\"MMR\",\"PSE\",\"EST\",\"MDA\",\"VEN\",\"EGY\",\"LBY\",\"CHN\",\"ETH\",\"QAT\",\"REU\",\"ARM\",\"BIH\",\"OMN\",\"MKD\",\"KEN\",\"ZMB\",\"ALB\",\"BWA\",\"LUX\",\"MNE\",\"BRN\",\"DZA\",\"NGA\",\"ZWE\",\"UZB\",\"MOZ\",\"AFG\",\"KGZ\",\"SLV\",\"TTO\",\"MDV\",\"GHA\",\"NAM\",\"UGA\",\"JAM\",\"KHM\",\"RWA\",\"CMR\",\"MLT\",\"BRB\",\"AGO\",\"GUF\",\"SEN\",\"MWI\",\"CIV\",\"NCL\",\"SWZ\",\"GUY\",\"BLZ\",\"FJI\",\"MDG\",\"SDN\",\"MRT\",\"CPV\",\"BTN\",\"SYR\",\"BDI\",\"GAB\",\"AND\",\"PNG\",\"CUW\",\"ABW\",\"MUS\",\"TGO\",\"GIN\",\"BHS\",\"LSO\",\"HTI\",\"MLI\",\"CYM\",\"LCA\",\"BEN\",\"SOM\",\"COG\",\"SMR\",\"BFA\",\"LIE\",\"GIB\",\"GRD\",\"BMU\",\"SSD\",\"GNQ\",\"TON\",\"WSM\",\"MCO\",\"DMA\",\"DJI\",\"GMB\",\"MAF\",\"VUT\",\"GRL\",\"YEM\",\"ERI\",\"NER\",\"ATG\",\"GNB\",\"LBR\",\"TCD\",\"COK\",\"KNA\",\"TCA\",\"STP\",\"PLW\",\"NRU\",\"AIA\",\"MAC\",\"WLF\",\"MSR\"],\"name\":\"\",\"z\":[104196861,44682784,39524311,37779833,36824580,32588442,30197066,25453789,24274361,21958696,13731478,11526508,11295446,10037135,9569611,8582500,7564350,7368252,6730289,6380225,6356309,5780229,5708301,5563907,5370131,5118981,5036593,4786189,4726984,4691499,4590019,4550256,4481621,4385701,4073454,4055966,3325006,3173247,2877280,2693458,2471198,2465545,2217110,2192447,2182355,2037556,1860893,1814180,1746997,1700253,1576313,1477856,1458619,1405917,1321852,1296865,1295426,1272240,1267580,1228639,1227853,1187986,1186176,1112438,1051239,1032710,1029701,1007871,1001102,994037,975355,827962,827944,700452,671989,662858,660095,642663,633820,621008,613891,598673,551587,515645,507162,503302,499531,492534,485895,446008,401384,399449,346428,342810,340763,334167,329227,297757,286355,275220,271378,266463,261606,250567,231994,208545,206592,201785,187908,185715,171112,170741,170400,153407,138693,133090,123993,117062,106157,105184,98028,88902,88559,87982,79845,74133,72950,70660,68820,67827,63742,63665,63229,62605,57453,53492,48981,47839,46750,45986,43993,41652,39354,38240,37491,34790,34076,32783,31472,29803,27989,27318,25375,23427,22025,21340,20399,19680,18766,18368,17190,16734,16087,16056,15760,15690,12586,12233,12014,11971,11945,10189,9931,9106,8947,8062,7652,7011,6592,6522,6280,5986,4621,3904,3488,3427,1403],\"type\":\"choropleth\"}],                        {\"template\":{\"data\":{\"histogram2dcontour\":[{\"type\":\"histogram2dcontour\",\"colorbar\":{\"outlinewidth\":0,\"ticks\":\"\"},\"colorscale\":[[0.0,\"#0d0887\"],[0.1111111111111111,\"#46039f\"],[0.2222222222222222,\"#7201a8\"],[0.3333333333333333,\"#9c179e\"],[0.4444444444444444,\"#bd3786\"],[0.5555555555555556,\"#d8576b\"],[0.6666666666666666,\"#ed7953\"],[0.7777777777777778,\"#fb9f3a\"],[0.8888888888888888,\"#fdca26\"],[1.0,\"#f0f921\"]]}],\"choropleth\":[{\"type\":\"choropleth\",\"colorbar\":{\"outlinewidth\":0,\"ticks\":\"\"}}],\"histogram2d\":[{\"type\":\"histogram2d\",\"colorbar\":{\"outlinewidth\":0,\"ticks\":\"\"},\"colorscale\":[[0.0,\"#0d0887\"],[0.1111111111111111,\"#46039f\"],[0.2222222222222222,\"#7201a8\"],[0.3333333333333333,\"#9c179e\"],[0.4444444444444444,\"#bd3786\"],[0.5555555555555556,\"#d8576b\"],[0.6666666666666666,\"#ed7953\"],[0.7777777777777778,\"#fb9f3a\"],[0.8888888888888888,\"#fdca26\"],[1.0,\"#f0f921\"]]}],\"heatmap\":[{\"type\":\"heatmap\",\"colorbar\":{\"outlinewidth\":0,\"ticks\":\"\"},\"colorscale\":[[0.0,\"#0d0887\"],[0.1111111111111111,\"#46039f\"],[0.2222222222222222,\"#7201a8\"],[0.3333333333333333,\"#9c179e\"],[0.4444444444444444,\"#bd3786\"],[0.5555555555555556,\"#d8576b\"],[0.6666666666666666,\"#ed7953\"],[0.7777777777777778,\"#fb9f3a\"],[0.8888888888888888,\"#fdca26\"],[1.0,\"#f0f921\"]]}],\"heatmapgl\":[{\"type\":\"heatmapgl\",\"colorbar\":{\"outlinewidth\":0,\"ticks\":\"\"},\"colorscale\":[[0.0,\"#0d0887\"],[0.1111111111111111,\"#46039f\"],[0.2222222222222222,\"#7201a8\"],[0.3333333333333333,\"#9c179e\"],[0.4444444444444444,\"#bd3786\"],[0.5555555555555556,\"#d8576b\"],[0.6666666666666666,\"#ed7953\"],[0.7777777777777778,\"#fb9f3a\"],[0.8888888888888888,\"#fdca26\"],[1.0,\"#f0f921\"]]}],\"contourcarpet\":[{\"type\":\"contourcarpet\",\"colorbar\":{\"outlinewidth\":0,\"ticks\":\"\"}}],\"contour\":[{\"type\":\"contour\",\"colorbar\":{\"outlinewidth\":0,\"ticks\":\"\"},\"colorscale\":[[0.0,\"#0d0887\"],[0.1111111111111111,\"#46039f\"],[0.2222222222222222,\"#7201a8\"],[0.3333333333333333,\"#9c179e\"],[0.4444444444444444,\"#bd3786\"],[0.5555555555555556,\"#d8576b\"],[0.6666666666666666,\"#ed7953\"],[0.7777777777777778,\"#fb9f3a\"],[0.8888888888888888,\"#fdca26\"],[1.0,\"#f0f921\"]]}],\"surface\":[{\"type\":\"surface\",\"colorbar\":{\"outlinewidth\":0,\"ticks\":\"\"},\"colorscale\":[[0.0,\"#0d0887\"],[0.1111111111111111,\"#46039f\"],[0.2222222222222222,\"#7201a8\"],[0.3333333333333333,\"#9c179e\"],[0.4444444444444444,\"#bd3786\"],[0.5555555555555556,\"#d8576b\"],[0.6666666666666666,\"#ed7953\"],[0.7777777777777778,\"#fb9f3a\"],[0.8888888888888888,\"#fdca26\"],[1.0,\"#f0f921\"]]}],\"mesh3d\":[{\"type\":\"mesh3d\",\"colorbar\":{\"outlinewidth\":0,\"ticks\":\"\"}}],\"scatter\":[{\"fillpattern\":{\"fillmode\":\"overlay\",\"size\":10,\"solidity\":0.2},\"type\":\"scatter\"}],\"parcoords\":[{\"type\":\"parcoords\",\"line\":{\"colorbar\":{\"outlinewidth\":0,\"ticks\":\"\"}}}],\"scatterpolargl\":[{\"type\":\"scatterpolargl\",\"marker\":{\"colorbar\":{\"outlinewidth\":0,\"ticks\":\"\"}}}],\"bar\":[{\"error_x\":{\"color\":\"#2a3f5f\"},\"error_y\":{\"color\":\"#2a3f5f\"},\"marker\":{\"line\":{\"color\":\"#E5ECF6\",\"width\":0.5},\"pattern\":{\"fillmode\":\"overlay\",\"size\":10,\"solidity\":0.2}},\"type\":\"bar\"}],\"scattergeo\":[{\"type\":\"scattergeo\",\"marker\":{\"colorbar\":{\"outlinewidth\":0,\"ticks\":\"\"}}}],\"scatterpolar\":[{\"type\":\"scatterpolar\",\"marker\":{\"colorbar\":{\"outlinewidth\":0,\"ticks\":\"\"}}}],\"histogram\":[{\"marker\":{\"pattern\":{\"fillmode\":\"overlay\",\"size\":10,\"solidity\":0.2}},\"type\":\"histogram\"}],\"scattergl\":[{\"type\":\"scattergl\",\"marker\":{\"colorbar\":{\"outlinewidth\":0,\"ticks\":\"\"}}}],\"scatter3d\":[{\"type\":\"scatter3d\",\"line\":{\"colorbar\":{\"outlinewidth\":0,\"ticks\":\"\"}},\"marker\":{\"colorbar\":{\"outlinewidth\":0,\"ticks\":\"\"}}}],\"scattermapbox\":[{\"type\":\"scattermapbox\",\"marker\":{\"colorbar\":{\"outlinewidth\":0,\"ticks\":\"\"}}}],\"scatterternary\":[{\"type\":\"scatterternary\",\"marker\":{\"colorbar\":{\"outlinewidth\":0,\"ticks\":\"\"}}}],\"scattercarpet\":[{\"type\":\"scattercarpet\",\"marker\":{\"colorbar\":{\"outlinewidth\":0,\"ticks\":\"\"}}}],\"carpet\":[{\"aaxis\":{\"endlinecolor\":\"#2a3f5f\",\"gridcolor\":\"white\",\"linecolor\":\"white\",\"minorgridcolor\":\"white\",\"startlinecolor\":\"#2a3f5f\"},\"baxis\":{\"endlinecolor\":\"#2a3f5f\",\"gridcolor\":\"white\",\"linecolor\":\"white\",\"minorgridcolor\":\"white\",\"startlinecolor\":\"#2a3f5f\"},\"type\":\"carpet\"}],\"table\":[{\"cells\":{\"fill\":{\"color\":\"#EBF0F8\"},\"line\":{\"color\":\"white\"}},\"header\":{\"fill\":{\"color\":\"#C8D4E3\"},\"line\":{\"color\":\"white\"}},\"type\":\"table\"}],\"barpolar\":[{\"marker\":{\"line\":{\"color\":\"#E5ECF6\",\"width\":0.5},\"pattern\":{\"fillmode\":\"overlay\",\"size\":10,\"solidity\":0.2}},\"type\":\"barpolar\"}],\"pie\":[{\"automargin\":true,\"type\":\"pie\"}]},\"layout\":{\"autotypenumbers\":\"strict\",\"colorway\":[\"#636efa\",\"#EF553B\",\"#00cc96\",\"#ab63fa\",\"#FFA15A\",\"#19d3f3\",\"#FF6692\",\"#B6E880\",\"#FF97FF\",\"#FECB52\"],\"font\":{\"color\":\"#2a3f5f\"},\"hovermode\":\"closest\",\"hoverlabel\":{\"align\":\"left\"},\"paper_bgcolor\":\"white\",\"plot_bgcolor\":\"#E5ECF6\",\"polar\":{\"bgcolor\":\"#E5ECF6\",\"angularaxis\":{\"gridcolor\":\"white\",\"linecolor\":\"white\",\"ticks\":\"\"},\"radialaxis\":{\"gridcolor\":\"white\",\"linecolor\":\"white\",\"ticks\":\"\"}},\"ternary\":{\"bgcolor\":\"#E5ECF6\",\"aaxis\":{\"gridcolor\":\"white\",\"linecolor\":\"white\",\"ticks\":\"\"},\"baxis\":{\"gridcolor\":\"white\",\"linecolor\":\"white\",\"ticks\":\"\"},\"caxis\":{\"gridcolor\":\"white\",\"linecolor\":\"white\",\"ticks\":\"\"}},\"coloraxis\":{\"colorbar\":{\"outlinewidth\":0,\"ticks\":\"\"}},\"colorscale\":{\"sequential\":[[0.0,\"#0d0887\"],[0.1111111111111111,\"#46039f\"],[0.2222222222222222,\"#7201a8\"],[0.3333333333333333,\"#9c179e\"],[0.4444444444444444,\"#bd3786\"],[0.5555555555555556,\"#d8576b\"],[0.6666666666666666,\"#ed7953\"],[0.7777777777777778,\"#fb9f3a\"],[0.8888888888888888,\"#fdca26\"],[1.0,\"#f0f921\"]],\"sequentialminus\":[[0.0,\"#0d0887\"],[0.1111111111111111,\"#46039f\"],[0.2222222222222222,\"#7201a8\"],[0.3333333333333333,\"#9c179e\"],[0.4444444444444444,\"#bd3786\"],[0.5555555555555556,\"#d8576b\"],[0.6666666666666666,\"#ed7953\"],[0.7777777777777778,\"#fb9f3a\"],[0.8888888888888888,\"#fdca26\"],[1.0,\"#f0f921\"]],\"diverging\":[[0,\"#8e0152\"],[0.1,\"#c51b7d\"],[0.2,\"#de77ae\"],[0.3,\"#f1b6da\"],[0.4,\"#fde0ef\"],[0.5,\"#f7f7f7\"],[0.6,\"#e6f5d0\"],[0.7,\"#b8e186\"],[0.8,\"#7fbc41\"],[0.9,\"#4d9221\"],[1,\"#276419\"]]},\"xaxis\":{\"gridcolor\":\"white\",\"linecolor\":\"white\",\"ticks\":\"\",\"title\":{\"standoff\":15},\"zerolinecolor\":\"white\",\"automargin\":true,\"zerolinewidth\":2},\"yaxis\":{\"gridcolor\":\"white\",\"linecolor\":\"white\",\"ticks\":\"\",\"title\":{\"standoff\":15},\"zerolinecolor\":\"white\",\"automargin\":true,\"zerolinewidth\":2},\"scene\":{\"xaxis\":{\"backgroundcolor\":\"#E5ECF6\",\"gridcolor\":\"white\",\"linecolor\":\"white\",\"showbackground\":true,\"ticks\":\"\",\"zerolinecolor\":\"white\",\"gridwidth\":2},\"yaxis\":{\"backgroundcolor\":\"#E5ECF6\",\"gridcolor\":\"white\",\"linecolor\":\"white\",\"showbackground\":true,\"ticks\":\"\",\"zerolinecolor\":\"white\",\"gridwidth\":2},\"zaxis\":{\"backgroundcolor\":\"#E5ECF6\",\"gridcolor\":\"white\",\"linecolor\":\"white\",\"showbackground\":true,\"ticks\":\"\",\"zerolinecolor\":\"white\",\"gridwidth\":2}},\"shapedefaults\":{\"line\":{\"color\":\"#2a3f5f\"}},\"annotationdefaults\":{\"arrowcolor\":\"#2a3f5f\",\"arrowhead\":0,\"arrowwidth\":1},\"geo\":{\"bgcolor\":\"white\",\"landcolor\":\"#E5ECF6\",\"subunitcolor\":\"white\",\"showland\":true,\"showlakes\":true,\"lakecolor\":\"white\"},\"title\":{\"x\":0.05},\"mapbox\":{\"style\":\"light\"}}},\"geo\":{\"domain\":{\"x\":[0.0,1.0],\"y\":[0.0,1.0]},\"center\":{}},\"coloraxis\":{\"colorbar\":{\"title\":{\"text\":\"color\"}},\"colorscale\":[[0.0,\"#0d0887\"],[0.1111111111111111,\"#46039f\"],[0.2222222222222222,\"#7201a8\"],[0.3333333333333333,\"#9c179e\"],[0.4444444444444444,\"#bd3786\"],[0.5555555555555556,\"#d8576b\"],[0.6666666666666666,\"#ed7953\"],[0.7777777777777778,\"#fb9f3a\"],[0.8888888888888888,\"#fdca26\"],[1.0,\"#f0f921\"]]},\"legend\":{\"tracegroupgap\":0},\"title\":{\"text\":\"Total Covid Cases\"}},                        {\"responsive\": true}                    ).then(function(){\n",
       "                            \n",
       "var gd = document.getElementById('1b9ab43a-4730-4210-9bd3-d2883f8682db');\n",
       "var x = new MutationObserver(function (mutations, observer) {{\n",
       "        var display = window.getComputedStyle(gd).display;\n",
       "        if (!display || display === 'none') {{\n",
       "            console.log([gd, 'removed!']);\n",
       "            Plotly.purge(gd);\n",
       "            observer.disconnect();\n",
       "        }}\n",
       "}});\n",
       "\n",
       "// Listen for the removal of the full notebook cells\n",
       "var notebookContainer = gd.closest('#notebook-container');\n",
       "if (notebookContainer) {{\n",
       "    x.observe(notebookContainer, {childList: true});\n",
       "}}\n",
       "\n",
       "// Listen for the clearing of the current output cell\n",
       "var outputEl = gd.closest('.output');\n",
       "if (outputEl) {{\n",
       "    x.observe(outputEl, {childList: true});\n",
       "}}\n",
       "\n",
       "                        })                };                });            </script>        </div>"
      ]
     },
     "metadata": {},
     "output_type": "display_data"
    }
   ],
   "source": [
    "wcm = px.choropleth(locations=df['Country Code Alpha 3'], locationmode='ISO-3',\n",
    "                    color=df['Total Cases'], title='Total Covid Cases',)\n",
    "wcm.show()"
   ]
  }
 ],
 "metadata": {
  "kernelspec": {
   "display_name": "BigData",
   "language": "python",
   "name": "python3"
  },
  "language_info": {
   "codemirror_mode": {
    "name": "ipython",
    "version": 3
   },
   "file_extension": ".py",
   "mimetype": "text/x-python",
   "name": "python",
   "nbconvert_exporter": "python",
   "pygments_lexer": "ipython3",
   "version": "3.10.10"
  },
  "orig_nbformat": 4
 },
 "nbformat": 4,
 "nbformat_minor": 2
}
